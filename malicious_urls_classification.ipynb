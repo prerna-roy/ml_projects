{
  "nbformat": 4,
  "nbformat_minor": 0,
  "metadata": {
    "colab": {
      "provenance": [],
      "collapsed_sections": [],
      "authorship_tag": "ABX9TyNw9vLgs8CbfIk+GvMxMpTF",
      "include_colab_link": true
    },
    "kernelspec": {
      "name": "python3",
      "display_name": "Python 3"
    },
    "language_info": {
      "name": "python"
    }
  },
  "cells": [
    {
      "cell_type": "markdown",
      "metadata": {
        "id": "view-in-github",
        "colab_type": "text"
      },
      "source": [
        "<a href=\"https://colab.research.google.com/github/prerna-roy/ml_projects/blob/main/malicious_urls_classification.ipynb\" target=\"_parent\"><img src=\"https://colab.research.google.com/assets/colab-badge.svg\" alt=\"Open In Colab\"/></a>"
      ]
    },
    {
      "cell_type": "code",
      "execution_count": null,
      "metadata": {
        "colab": {
          "base_uri": "https://localhost:8080/"
        },
        "id": "Vl89LCqU-0pb",
        "outputId": "3fdefdf9-287e-4af2-c9f1-dcf637afdbcc"
      },
      "outputs": [
        {
          "output_type": "stream",
          "name": "stdout",
          "text": [
            "Mounted at /content/gdrive\n"
          ]
        }
      ],
      "source": [
        "from google.colab import drive\n",
        "drive.mount('/content/gdrive')"
      ]
    },
    {
      "cell_type": "code",
      "source": [
        "!pip install opendatasets\n",
        "import opendatasets as od"
      ],
      "metadata": {
        "colab": {
          "base_uri": "https://localhost:8080/"
        },
        "id": "4kYTNkoM_Ng2",
        "outputId": "c282b65f-f570-4706-abe8-1f31d4fa8f92"
      },
      "execution_count": null,
      "outputs": [
        {
          "output_type": "stream",
          "name": "stdout",
          "text": [
            "Looking in indexes: https://pypi.org/simple, https://us-python.pkg.dev/colab-wheels/public/simple/\n",
            "Collecting opendatasets\n",
            "  Downloading opendatasets-0.1.22-py3-none-any.whl (15 kB)\n",
            "Requirement already satisfied: tqdm in /usr/local/lib/python3.7/dist-packages (from opendatasets) (4.64.0)\n",
            "Requirement already satisfied: click in /usr/local/lib/python3.7/dist-packages (from opendatasets) (7.1.2)\n",
            "Requirement already satisfied: kaggle in /usr/local/lib/python3.7/dist-packages (from opendatasets) (1.5.12)\n",
            "Requirement already satisfied: certifi in /usr/local/lib/python3.7/dist-packages (from kaggle->opendatasets) (2022.6.15)\n",
            "Requirement already satisfied: six>=1.10 in /usr/local/lib/python3.7/dist-packages (from kaggle->opendatasets) (1.15.0)\n",
            "Requirement already satisfied: urllib3 in /usr/local/lib/python3.7/dist-packages (from kaggle->opendatasets) (1.24.3)\n",
            "Requirement already satisfied: python-dateutil in /usr/local/lib/python3.7/dist-packages (from kaggle->opendatasets) (2.8.2)\n",
            "Requirement already satisfied: requests in /usr/local/lib/python3.7/dist-packages (from kaggle->opendatasets) (2.23.0)\n",
            "Requirement already satisfied: python-slugify in /usr/local/lib/python3.7/dist-packages (from kaggle->opendatasets) (6.1.2)\n",
            "Requirement already satisfied: text-unidecode>=1.3 in /usr/local/lib/python3.7/dist-packages (from python-slugify->kaggle->opendatasets) (1.3)\n",
            "Requirement already satisfied: idna<3,>=2.5 in /usr/local/lib/python3.7/dist-packages (from requests->kaggle->opendatasets) (2.10)\n",
            "Requirement already satisfied: chardet<4,>=3.0.2 in /usr/local/lib/python3.7/dist-packages (from requests->kaggle->opendatasets) (3.0.4)\n",
            "Installing collected packages: opendatasets\n",
            "Successfully installed opendatasets-0.1.22\n"
          ]
        }
      ]
    },
    {
      "cell_type": "code",
      "source": [
        "od.download(\"https://www.kaggle.com/datasets/sid321axn/malicious-urls-dataset\")"
      ],
      "metadata": {
        "colab": {
          "base_uri": "https://localhost:8080/"
        },
        "id": "hCcdGTLr_k1k",
        "outputId": "38a5c610-7b55-43bf-f2b7-fc7cc520fcaf"
      },
      "execution_count": null,
      "outputs": [
        {
          "output_type": "stream",
          "name": "stdout",
          "text": [
            "Please provide your Kaggle credentials to download this dataset. Learn more: http://bit.ly/kaggle-creds\n",
            "Your Kaggle username: prernaroy\n",
            "Your Kaggle Key: ··········\n",
            "Downloading malicious-urls-dataset.zip to ./malicious-urls-dataset\n"
          ]
        },
        {
          "output_type": "stream",
          "name": "stderr",
          "text": [
            "100%|██████████| 16.9M/16.9M [00:00<00:00, 90.0MB/s]\n"
          ]
        },
        {
          "output_type": "stream",
          "name": "stdout",
          "text": [
            "\n"
          ]
        }
      ]
    },
    {
      "cell_type": "code",
      "source": [
        "import pandas as pd\n",
        "import numpy as np \n",
        "import matplotlib.pyplot as plt \n",
        "import seaborn as sns \n",
        "%matplotlib inline"
      ],
      "metadata": {
        "id": "JfD_HKaR_r6u"
      },
      "execution_count": null,
      "outputs": []
    },
    {
      "cell_type": "code",
      "source": [
        "df = pd.read_csv(\"/content/malicious-urls-dataset/malicious_phish.csv\")"
      ],
      "metadata": {
        "id": "wI8ALMDRAU_B"
      },
      "execution_count": null,
      "outputs": []
    },
    {
      "cell_type": "code",
      "source": [
        "df.head()"
      ],
      "metadata": {
        "colab": {
          "base_uri": "https://localhost:8080/",
          "height": 206
        },
        "id": "QQPSa7Mn_r3t",
        "outputId": "00a57e48-8d03-4be0-8eca-55886ab476f6"
      },
      "execution_count": null,
      "outputs": [
        {
          "output_type": "execute_result",
          "data": {
            "text/plain": [
              "                                                 url        type\n",
              "0                                   br-icloud.com.br    phishing\n",
              "1                mp3raid.com/music/krizz_kaliko.html      benign\n",
              "2                    bopsecrets.org/rexroth/cr/1.htm      benign\n",
              "3  http://www.garage-pirenne.be/index.php?option=...  defacement\n",
              "4  http://adventure-nicaragua.net/index.php?optio...  defacement"
            ],
            "text/html": [
              "\n",
              "  <div id=\"df-b89ceac2-4bf6-414b-aa74-68293300600c\">\n",
              "    <div class=\"colab-df-container\">\n",
              "      <div>\n",
              "<style scoped>\n",
              "    .dataframe tbody tr th:only-of-type {\n",
              "        vertical-align: middle;\n",
              "    }\n",
              "\n",
              "    .dataframe tbody tr th {\n",
              "        vertical-align: top;\n",
              "    }\n",
              "\n",
              "    .dataframe thead th {\n",
              "        text-align: right;\n",
              "    }\n",
              "</style>\n",
              "<table border=\"1\" class=\"dataframe\">\n",
              "  <thead>\n",
              "    <tr style=\"text-align: right;\">\n",
              "      <th></th>\n",
              "      <th>url</th>\n",
              "      <th>type</th>\n",
              "    </tr>\n",
              "  </thead>\n",
              "  <tbody>\n",
              "    <tr>\n",
              "      <th>0</th>\n",
              "      <td>br-icloud.com.br</td>\n",
              "      <td>phishing</td>\n",
              "    </tr>\n",
              "    <tr>\n",
              "      <th>1</th>\n",
              "      <td>mp3raid.com/music/krizz_kaliko.html</td>\n",
              "      <td>benign</td>\n",
              "    </tr>\n",
              "    <tr>\n",
              "      <th>2</th>\n",
              "      <td>bopsecrets.org/rexroth/cr/1.htm</td>\n",
              "      <td>benign</td>\n",
              "    </tr>\n",
              "    <tr>\n",
              "      <th>3</th>\n",
              "      <td>http://www.garage-pirenne.be/index.php?option=...</td>\n",
              "      <td>defacement</td>\n",
              "    </tr>\n",
              "    <tr>\n",
              "      <th>4</th>\n",
              "      <td>http://adventure-nicaragua.net/index.php?optio...</td>\n",
              "      <td>defacement</td>\n",
              "    </tr>\n",
              "  </tbody>\n",
              "</table>\n",
              "</div>\n",
              "      <button class=\"colab-df-convert\" onclick=\"convertToInteractive('df-b89ceac2-4bf6-414b-aa74-68293300600c')\"\n",
              "              title=\"Convert this dataframe to an interactive table.\"\n",
              "              style=\"display:none;\">\n",
              "        \n",
              "  <svg xmlns=\"http://www.w3.org/2000/svg\" height=\"24px\"viewBox=\"0 0 24 24\"\n",
              "       width=\"24px\">\n",
              "    <path d=\"M0 0h24v24H0V0z\" fill=\"none\"/>\n",
              "    <path d=\"M18.56 5.44l.94 2.06.94-2.06 2.06-.94-2.06-.94-.94-2.06-.94 2.06-2.06.94zm-11 1L8.5 8.5l.94-2.06 2.06-.94-2.06-.94L8.5 2.5l-.94 2.06-2.06.94zm10 10l.94 2.06.94-2.06 2.06-.94-2.06-.94-.94-2.06-.94 2.06-2.06.94z\"/><path d=\"M17.41 7.96l-1.37-1.37c-.4-.4-.92-.59-1.43-.59-.52 0-1.04.2-1.43.59L10.3 9.45l-7.72 7.72c-.78.78-.78 2.05 0 2.83L4 21.41c.39.39.9.59 1.41.59.51 0 1.02-.2 1.41-.59l7.78-7.78 2.81-2.81c.8-.78.8-2.07 0-2.86zM5.41 20L4 18.59l7.72-7.72 1.47 1.35L5.41 20z\"/>\n",
              "  </svg>\n",
              "      </button>\n",
              "      \n",
              "  <style>\n",
              "    .colab-df-container {\n",
              "      display:flex;\n",
              "      flex-wrap:wrap;\n",
              "      gap: 12px;\n",
              "    }\n",
              "\n",
              "    .colab-df-convert {\n",
              "      background-color: #E8F0FE;\n",
              "      border: none;\n",
              "      border-radius: 50%;\n",
              "      cursor: pointer;\n",
              "      display: none;\n",
              "      fill: #1967D2;\n",
              "      height: 32px;\n",
              "      padding: 0 0 0 0;\n",
              "      width: 32px;\n",
              "    }\n",
              "\n",
              "    .colab-df-convert:hover {\n",
              "      background-color: #E2EBFA;\n",
              "      box-shadow: 0px 1px 2px rgba(60, 64, 67, 0.3), 0px 1px 3px 1px rgba(60, 64, 67, 0.15);\n",
              "      fill: #174EA6;\n",
              "    }\n",
              "\n",
              "    [theme=dark] .colab-df-convert {\n",
              "      background-color: #3B4455;\n",
              "      fill: #D2E3FC;\n",
              "    }\n",
              "\n",
              "    [theme=dark] .colab-df-convert:hover {\n",
              "      background-color: #434B5C;\n",
              "      box-shadow: 0px 1px 3px 1px rgba(0, 0, 0, 0.15);\n",
              "      filter: drop-shadow(0px 1px 2px rgba(0, 0, 0, 0.3));\n",
              "      fill: #FFFFFF;\n",
              "    }\n",
              "  </style>\n",
              "\n",
              "      <script>\n",
              "        const buttonEl =\n",
              "          document.querySelector('#df-b89ceac2-4bf6-414b-aa74-68293300600c button.colab-df-convert');\n",
              "        buttonEl.style.display =\n",
              "          google.colab.kernel.accessAllowed ? 'block' : 'none';\n",
              "\n",
              "        async function convertToInteractive(key) {\n",
              "          const element = document.querySelector('#df-b89ceac2-4bf6-414b-aa74-68293300600c');\n",
              "          const dataTable =\n",
              "            await google.colab.kernel.invokeFunction('convertToInteractive',\n",
              "                                                     [key], {});\n",
              "          if (!dataTable) return;\n",
              "\n",
              "          const docLinkHtml = 'Like what you see? Visit the ' +\n",
              "            '<a target=\"_blank\" href=https://colab.research.google.com/notebooks/data_table.ipynb>data table notebook</a>'\n",
              "            + ' to learn more about interactive tables.';\n",
              "          element.innerHTML = '';\n",
              "          dataTable['output_type'] = 'display_data';\n",
              "          await google.colab.output.renderOutput(dataTable, element);\n",
              "          const docLink = document.createElement('div');\n",
              "          docLink.innerHTML = docLinkHtml;\n",
              "          element.appendChild(docLink);\n",
              "        }\n",
              "      </script>\n",
              "    </div>\n",
              "  </div>\n",
              "  "
            ]
          },
          "metadata": {},
          "execution_count": 12
        }
      ]
    },
    {
      "cell_type": "code",
      "source": [
        "fig, ax = plt.subplots()\n",
        "ax = df['type'].value_counts().plot(kind='bar')"
      ],
      "metadata": {
        "colab": {
          "base_uri": "https://localhost:8080/",
          "height": 315
        },
        "id": "3o7SvEfq_r1H",
        "outputId": "72c6bb0f-9107-4b09-a5f8-d44814f167da"
      },
      "execution_count": null,
      "outputs": [
        {
          "output_type": "display_data",
          "data": {
            "text/plain": [
              "<Figure size 432x288 with 1 Axes>"
            ],
            "image/png": "[encoded data removed]"
          },
          "metadata": {
            "needs_background": "light"
          }
        }
      ]
    },
    {
      "cell_type": "code",
      "source": [
        "ratio_malicious = round(df['type'][(df['type'] != 'benign')].count() / len(df), 2)\n",
        "ratio_benign = round(df['type'][(df['type'] == 'benign')].count() / len(df), 2)\n",
        "print(\"Proportion of malicious urls =\", ratio_malicious)\n",
        "print(\"Proportion of benign urls =\", ratio_benign)"
      ],
      "metadata": {
        "colab": {
          "base_uri": "https://localhost:8080/"
        },
        "id": "xErVWAGC_rnn",
        "outputId": "54379a17-0a52-4edc-9d50-0f96bc3acbe9"
      },
      "execution_count": null,
      "outputs": [
        {
          "output_type": "stream",
          "name": "stdout",
          "text": [
            "Proportion of malicious urls = 0.34\n",
            "Proportion of benign urls = 0.66\n"
          ]
        }
      ]
    },
    {
      "cell_type": "code",
      "source": [
        "df.info()"
      ],
      "metadata": {
        "colab": {
          "base_uri": "https://localhost:8080/"
        },
        "id": "Xs2xkGcq_rk9",
        "outputId": "1765725f-6a34-4827-9f29-575322601899"
      },
      "execution_count": null,
      "outputs": [
        {
          "output_type": "stream",
          "name": "stdout",
          "text": [
            "<class 'pandas.core.frame.DataFrame'>\n",
            "RangeIndex: 651191 entries, 0 to 651190\n",
            "Data columns (total 2 columns):\n",
            " #   Column  Non-Null Count   Dtype \n",
            "---  ------  --------------   ----- \n",
            " 0   url     651191 non-null  object\n",
            " 1   type    651191 non-null  object\n",
            "dtypes: object(2)\n",
            "memory usage: 9.9+ MB\n"
          ]
        }
      ]
    },
    {
      "cell_type": "markdown",
      "source": [
        "# **Feature Engineering**\n",
        "There are clearly not many features in the original dataset to use. Thus feature engineering is conducted to derive useful features from the given URLs. These are extracted in terms of: \n",
        "* Address bar features \n",
        "* Domain features "
      ],
      "metadata": {
        "id": "V8AjZ9F3Mqjr"
      }
    },
    {
      "cell_type": "markdown",
      "source": [
        "## **Address bar features**\n",
        "There are many features that can be extracted from the address bar. Of these, these include:\n",
        "* Domain of URL\n",
        "* IP address in URL\n",
        "* Presence of \"@\" symbol in URL\n",
        "* Length and depth of URL \n",
        "* Redirection attempt in URL (using \"//\" character) \n",
        "* Use of \"http\" or \"https\" in domain\n",
        "* Use of URL shortening \n",
        "* Using a prefix/suffic in domain (i.e., use of \"-\"). "
      ],
      "metadata": {
        "id": "AtBQjL7MNLtF"
      }
    },
    {
      "cell_type": "code",
      "source": [
        "## Address bar features extraction libraries \n",
        "from urllib.parse import urlparse, urlencode\n",
        "import ipaddress\n",
        "import re "
      ],
      "metadata": {
        "id": "Dx15jrDh_riN"
      },
      "execution_count": null,
      "outputs": []
    },
    {
      "cell_type": "code",
      "source": [
        "# For use in finding if URL shortening was used:\n",
        "#listing shortening services\n",
        "shortened_urls = r\"bit\\.ly|goo\\.gl|shorte\\.st|go2l\\.ink|x\\.co|ow\\.ly|t\\.co|tinyurl|tr\\.im|is\\.gd|cli\\.gs|\" \\\n",
        "                      r\"yfrog\\.com|migre\\.me|ff\\.im|tiny\\.cc|url4\\.eu|twit\\.ac|su\\.pr|twurl\\.nl|snipurl\\.com|\" \\\n",
        "                      r\"short\\.to|BudURL\\.com|ping\\.fm|post\\.ly|Just\\.as|bkite\\.com|snipr\\.com|fic\\.kr|loopt\\.us|\" \\\n",
        "                      r\"doiop\\.com|short\\.ie|kl\\.am|wp\\.me|rubyurl\\.com|om\\.ly|to\\.ly|bit\\.do|t\\.co|lnkd\\.in|db\\.tt|\" \\\n",
        "                      r\"qr\\.ae|adf\\.ly|goo\\.gl|bitly\\.com|cur\\.lv|tinyurl\\.com|ow\\.ly|bit\\.ly|ity\\.im|q\\.gs|is\\.gd|\" \\\n",
        "                      r\"po\\.st|bc\\.vc|twitthis\\.com|u\\.to|j\\.mp|buzurl\\.com|cutt\\.us|u\\.bb|yourls\\.org|x\\.co|\" \\\n",
        "                      r\"prettylinkpro\\.com|scrnch\\.me|filoops\\.info|vzturl\\.com|qr\\.net|1url\\.com|tweez\\.me|v\\.gd|\" \\\n",
        "                      r\"tr\\.im|link\\.zip\\.net\""
      ],
      "metadata": {
        "id": "Zf1BkE-nZXXn"
      },
      "execution_count": null,
      "outputs": []
    },
    {
      "cell_type": "code",
      "source": [
        "# Domain of URL \n",
        "def addressBarFeatures(url):\n",
        "\n",
        "  #Get domain\n",
        "  def getDomain(url):\n",
        "    domain = urlparse(url).netloc \n",
        "    if re.match(r\"www.\", domain):\n",
        "      domain = domain.replace(\"www.\", \"\")\n",
        "    return domain \n",
        "\n",
        "  #Get IP address\n",
        "  def hasIP(url):\n",
        "    try:\n",
        "      ipaddress.ip_address(url)\n",
        "      ip = 1\n",
        "    except:\n",
        "      ip = 0\n",
        "    return ip \n",
        "\n",
        "  def hasAtSymbol(url):\n",
        "    if \"@\" in url:\n",
        "      at = 1\n",
        "    else:\n",
        "      at = 0\n",
        "    return at\n",
        "\n",
        "  def urlLength(url):\n",
        "    length = len(url)\n",
        "    return length\n",
        "\n",
        "  def urlDepth(url):\n",
        "    depth = urlparse(df['url'][100]).path.count('/')\n",
        "    return depth\n",
        "    \n",
        "  def hasRedirection(url):\n",
        "    if \"//\" in urlparse(url).path:\n",
        "      return 1\n",
        "    else:\n",
        "      return 0\n",
        "      \n",
        "  def domainHTTP(url):\n",
        "    # checks if http/https is in the domain\n",
        "    # attempt to fake a scheme inside domain\n",
        "    if \"http\" or \"https\" in urlparse(url).netloc:\n",
        "      return 1 \n",
        "    else:\n",
        "      return 0\n",
        "  \n",
        "  def short_url(url):\n",
        "    match = re.search(shortened_urls, url)\n",
        "    if match: \n",
        "      return 1\n",
        "    else: \n",
        "      return 0\n",
        "    \n",
        "  def suffix_prefix(url):\n",
        "    if '-' in urlparse(url).netloc:\n",
        "      return 1\n",
        "    else:\n",
        "      return 0\n",
        "      \n",
        "  return "
      ],
      "metadata": {
        "id": "UBySJigO_rfs"
      },
      "execution_count": null,
      "outputs": []
    },
    {
      "cell_type": "markdown",
      "source": [
        "# **Domain based features**\n",
        "\n",
        "Domain based features can be extracted using the 'whois' library. A few common indicators for detecting if a website is malicious or not are:\n",
        "\n",
        "1. DNS Record \n",
        "2. Website Traffic\n",
        "3. Age of Domain \n",
        "4. End of Period of Domain"
      ],
      "metadata": {
        "id": "NYhiPa7PaSkD"
      }
    },
    {
      "cell_type": "code",
      "source": [
        "# library for extracting domain information \n",
        "!pip install python-whois \n",
        "import whois\n",
        "import urllib\n",
        "import urllib.request \n",
        "from bs4 import BeautifulSoup \n",
        "from datetime import datetime"
      ],
      "metadata": {
        "colab": {
          "base_uri": "https://localhost:8080/"
        },
        "id": "06QeAya1aQxl",
        "outputId": "d9a20bad-aa6d-434f-e9d2-f2c5bc54d185"
      },
      "execution_count": null,
      "outputs": [
        {
          "output_type": "stream",
          "name": "stdout",
          "text": [
            "Looking in indexes: https://pypi.org/simple, https://us-python.pkg.dev/colab-wheels/public/simple/\n",
            "Requirement already satisfied: python-whois in /usr/local/lib/python3.7/dist-packages (0.8.0)\n",
            "Requirement already satisfied: future in /usr/local/lib/python3.7/dist-packages (from python-whois) (0.16.0)\n"
          ]
        }
      ]
    },
    {
      "cell_type": "code",
      "source": [
        "def domainFeatures(url):\n",
        "\n",
        "  def domainName(url):\n",
        "    w = whois.whois(url)\n",
        "    return w.domain_name \n",
        "  \n",
        "  def domainAge(url):\n",
        "    try:\n",
        "      w = whois.whois(url)\n",
        "      if type(w.creation_date) == list or type(w.expiration_date) == list:\n",
        "        createDate, expireDate = w.creation_date[0], w.expiration_date[0]\n",
        "        domainAge = expireDate - createDate\n",
        "      else: \n",
        "        createDate, expireDate = w.creation_date, w.expiration_date\n",
        "        domainAge = expireDate - createDate\n",
        "    except:\n",
        "      domainAge = None\n",
        "    return domainAge\n",
        "\n",
        "\n",
        "  return "
      ],
      "metadata": {
        "id": "FFE9PMRvn1Pz"
      },
      "execution_count": null,
      "outputs": []
    },
    {
      "cell_type": "markdown",
      "source": [
        "## Testing Feature Extraction [in development]"
      ],
      "metadata": {
        "id": "GLqVfPNXh4eT"
      }
    },
    {
      "cell_type": "code",
      "source": [
        "for url in df['url'][0:11]:\n",
        "  try: \n",
        "    wi = whois.whois(url)\n",
        "    if type(wi.creation_date) == list:\n",
        "      print(wi.creation_date[0])\n",
        "    else:\n",
        "      print(wi.creation_date)\n",
        "  except: \n",
        "    pass"
      ],
      "metadata": {
        "colab": {
          "base_uri": "https://localhost:8080/"
        },
        "id": "PFkz5ImzaL1J",
        "outputId": "fa65154e-c9f3-4a17-bd11-eaa24b695ae7"
      },
      "execution_count": null,
      "outputs": [
        {
          "output_type": "stream",
          "name": "stdout",
          "text": [
            "None\n",
            "2000-02-14 03:25:53\n",
            "2000-01-25 22:48:55\n",
            "None\n",
            "2015-02-09 18:46:12\n",
            "1998-01-09 05:00:00\n",
            "2005-10-25 18:59:07\n",
            "2011-02-18 19:37:44\n",
            "1994-06-02 04:00:00\n",
            "2007-10-02 18:16:19\n"
          ]
        }
      ]
    },
    {
      "cell_type": "code",
      "source": [
        "x = whois.whois(\"http://www.szabadmunkaero.hu/cimoldal.html?start=12\")\n",
        "print(x.domain_name == None)\n",
        "print(x)"
      ],
      "metadata": {
        "colab": {
          "base_uri": "https://localhost:8080/"
        },
        "id": "Vh1-VQNVaQjA",
        "outputId": "e4844c33-d826-4a0c-9934-deb648c392a2"
      },
      "execution_count": null,
      "outputs": [
        {
          "output_type": "stream",
          "name": "stdout",
          "text": [
            "True\n",
            "{\n",
            "  \"domain_name\": null,\n",
            "  \"registrar\": null,\n",
            "  \"whois_server\": null,\n",
            "  \"referral_url\": null,\n",
            "  \"updated_date\": null,\n",
            "  \"creation_date\": null,\n",
            "  \"expiration_date\": null,\n",
            "  \"name_servers\": null,\n",
            "  \"status\": null,\n",
            "  \"emails\": null,\n",
            "  \"dnssec\": null,\n",
            "  \"name\": null,\n",
            "  \"org\": null,\n",
            "  \"address\": null,\n",
            "  \"city\": null,\n",
            "  \"state\": null,\n",
            "  \"registrant_postal_code\": null,\n",
            "  \"country\": null\n",
            "}\n"
          ]
        }
      ]
    },
    {
      "cell_type": "code",
      "source": [
        "w = whois.whois(\"br-icloud.com.br\")\n",
        "print(w)"
      ],
      "metadata": {
        "colab": {
          "base_uri": "https://localhost:8080/"
        },
        "id": "5btGd4PTaQmN",
        "outputId": "baf7121c-1e63-4782-d55a-12972dc1e1f9"
      },
      "execution_count": null,
      "outputs": [
        {
          "output_type": "stream",
          "name": "stdout",
          "text": [
            "{\n",
            "  \"domain_name\": null,\n",
            "  \"registrant_name\": null,\n",
            "  \"registrant_id\": null,\n",
            "  \"country\": null,\n",
            "  \"owner_c\": null,\n",
            "  \"admin_c\": null,\n",
            "  \"tech_c\": null,\n",
            "  \"billing_c\": null,\n",
            "  \"name_server\": null,\n",
            "  \"nsstat\": null,\n",
            "  \"nslastaa\": null,\n",
            "  \"saci\": null,\n",
            "  \"creation_date\": null,\n",
            "  \"updated_date\": null,\n",
            "  \"expiration_date\": null,\n",
            "  \"status\": null,\n",
            "  \"nic_hdl_br\": null,\n",
            "  \"person\": null,\n",
            "  \"email\": null\n",
            "}\n"
          ]
        }
      ]
    },
    {
      "cell_type": "code",
      "source": [
        "r = whois.whois(\"bopsecrets.org/rexroth/cr/1.htm\")\n",
        "# print(r.domain_name != None)\n",
        "# print(r)\n",
        "print(r)"
      ],
      "metadata": {
        "colab": {
          "base_uri": "https://localhost:8080/"
        },
        "id": "Ng0WGrPhaL3z",
        "outputId": "43423598-b0b7-4014-8524-9980e6f188bb"
      },
      "execution_count": null,
      "outputs": [
        {
          "output_type": "stream",
          "name": "stdout",
          "text": [
            "{\n",
            "  \"domain_name\": \"bopsecrets.org\",\n",
            "  \"registrar\": \"Network Solutions, LLC\",\n",
            "  \"whois_server\": \"whois.networksolutions.com\",\n",
            "  \"referral_url\": null,\n",
            "  \"updated_date\": \"2021-11-26 08:38:03\",\n",
            "  \"creation_date\": \"2000-01-25 22:48:55\",\n",
            "  \"expiration_date\": \"2025-01-25 22:48:55\",\n",
            "  \"name_servers\": [\n",
            "    \"ns1.firstworld.net\",\n",
            "    \"ns2.firstworld.net\"\n",
            "  ],\n",
            "  \"status\": \"clientTransferProhibited https://icann.org/epp#clientTransferProhibited\",\n",
            "  \"emails\": [\n",
            "    \"domain.operations@web.com\",\n",
            "    \"abuse@web.com\"\n",
            "  ],\n",
            "  \"dnssec\": \"unsigned\",\n",
            "  \"name\": [\n",
            "    \"REDACTED FOR PRIVACY\",\n",
            "    \"Statutory Masking Enabled\"\n",
            "  ],\n",
            "  \"org\": \"Statutory Masking Enabled\",\n",
            "  \"address\": [\n",
            "    \"REDACTED FOR PRIVACY\",\n",
            "    \"Statutory Masking Enabled\"\n",
            "  ],\n",
            "  \"city\": [\n",
            "    \"REDACTED FOR PRIVACY\",\n",
            "    \"Statutory Masking Enabled\"\n",
            "  ],\n",
            "  \"state\": \"CA\",\n",
            "  \"registrant_postal_code\": [\n",
            "    \"REDACTED FOR PRIVACY\",\n",
            "    \"Statutory Masking Enabled\"\n",
            "  ],\n",
            "  \"country\": \"US\"\n",
            "}\n"
          ]
        }
      ]
    },
    {
      "cell_type": "code",
      "source": [
        "for url in df['url']:\n",
        "  if \"//\" in urlparse(url).path:\n",
        "    count = count + 1\n",
        "\n",
        "print(count)"
      ],
      "metadata": {
        "colab": {
          "base_uri": "https://localhost:8080/"
        },
        "id": "t93jjX5g_rdD",
        "outputId": "1da92e8e-12e9-470b-bba5-46400999a7a4"
      },
      "execution_count": null,
      "outputs": [
        {
          "output_type": "stream",
          "name": "stdout",
          "text": [
            "166\n"
          ]
        }
      ]
    },
    {
      "cell_type": "code",
      "source": [
        "df[df['type'] == 'phising']"
      ],
      "metadata": {
        "colab": {
          "base_uri": "https://localhost:8080/",
          "height": 49
        },
        "id": "o3IPbU2uQPTT",
        "outputId": "7fe9ae3e-d3c1-43ed-8978-9c95b783a4aa"
      },
      "execution_count": null,
      "outputs": [
        {
          "output_type": "execute_result",
          "data": {
            "text/plain": [
              "Empty DataFrame\n",
              "Columns: [url, type]\n",
              "Index: []"
            ],
            "text/html": [
              "\n",
              "  <div id=\"df-a049b305-40b7-4913-8799-f7f40b12d3b5\">\n",
              "    <div class=\"colab-df-container\">\n",
              "      <div>\n",
              "<style scoped>\n",
              "    .dataframe tbody tr th:only-of-type {\n",
              "        vertical-align: middle;\n",
              "    }\n",
              "\n",
              "    .dataframe tbody tr th {\n",
              "        vertical-align: top;\n",
              "    }\n",
              "\n",
              "    .dataframe thead th {\n",
              "        text-align: right;\n",
              "    }\n",
              "</style>\n",
              "<table border=\"1\" class=\"dataframe\">\n",
              "  <thead>\n",
              "    <tr style=\"text-align: right;\">\n",
              "      <th></th>\n",
              "      <th>url</th>\n",
              "      <th>type</th>\n",
              "    </tr>\n",
              "  </thead>\n",
              "  <tbody>\n",
              "  </tbody>\n",
              "</table>\n",
              "</div>\n",
              "      <button class=\"colab-df-convert\" onclick=\"convertToInteractive('df-a049b305-40b7-4913-8799-f7f40b12d3b5')\"\n",
              "              title=\"Convert this dataframe to an interactive table.\"\n",
              "              style=\"display:none;\">\n",
              "        \n",
              "  <svg xmlns=\"http://www.w3.org/2000/svg\" height=\"24px\"viewBox=\"0 0 24 24\"\n",
              "       width=\"24px\">\n",
              "    <path d=\"M0 0h24v24H0V0z\" fill=\"none\"/>\n",
              "    <path d=\"M18.56 5.44l.94 2.06.94-2.06 2.06-.94-2.06-.94-.94-2.06-.94 2.06-2.06.94zm-11 1L8.5 8.5l.94-2.06 2.06-.94-2.06-.94L8.5 2.5l-.94 2.06-2.06.94zm10 10l.94 2.06.94-2.06 2.06-.94-2.06-.94-.94-2.06-.94 2.06-2.06.94z\"/><path d=\"M17.41 7.96l-1.37-1.37c-.4-.4-.92-.59-1.43-.59-.52 0-1.04.2-1.43.59L10.3 9.45l-7.72 7.72c-.78.78-.78 2.05 0 2.83L4 21.41c.39.39.9.59 1.41.59.51 0 1.02-.2 1.41-.59l7.78-7.78 2.81-2.81c.8-.78.8-2.07 0-2.86zM5.41 20L4 18.59l7.72-7.72 1.47 1.35L5.41 20z\"/>\n",
              "  </svg>\n",
              "      </button>\n",
              "      \n",
              "  <style>\n",
              "    .colab-df-container {\n",
              "      display:flex;\n",
              "      flex-wrap:wrap;\n",
              "      gap: 12px;\n",
              "    }\n",
              "\n",
              "    .colab-df-convert {\n",
              "      background-color: #E8F0FE;\n",
              "      border: none;\n",
              "      border-radius: 50%;\n",
              "      cursor: pointer;\n",
              "      display: none;\n",
              "      fill: #1967D2;\n",
              "      height: 32px;\n",
              "      padding: 0 0 0 0;\n",
              "      width: 32px;\n",
              "    }\n",
              "\n",
              "    .colab-df-convert:hover {\n",
              "      background-color: #E2EBFA;\n",
              "      box-shadow: 0px 1px 2px rgba(60, 64, 67, 0.3), 0px 1px 3px 1px rgba(60, 64, 67, 0.15);\n",
              "      fill: #174EA6;\n",
              "    }\n",
              "\n",
              "    [theme=dark] .colab-df-convert {\n",
              "      background-color: #3B4455;\n",
              "      fill: #D2E3FC;\n",
              "    }\n",
              "\n",
              "    [theme=dark] .colab-df-convert:hover {\n",
              "      background-color: #434B5C;\n",
              "      box-shadow: 0px 1px 3px 1px rgba(0, 0, 0, 0.15);\n",
              "      filter: drop-shadow(0px 1px 2px rgba(0, 0, 0, 0.3));\n",
              "      fill: #FFFFFF;\n",
              "    }\n",
              "  </style>\n",
              "\n",
              "      <script>\n",
              "        const buttonEl =\n",
              "          document.querySelector('#df-a049b305-40b7-4913-8799-f7f40b12d3b5 button.colab-df-convert');\n",
              "        buttonEl.style.display =\n",
              "          google.colab.kernel.accessAllowed ? 'block' : 'none';\n",
              "\n",
              "        async function convertToInteractive(key) {\n",
              "          const element = document.querySelector('#df-a049b305-40b7-4913-8799-f7f40b12d3b5');\n",
              "          const dataTable =\n",
              "            await google.colab.kernel.invokeFunction('convertToInteractive',\n",
              "                                                     [key], {});\n",
              "          if (!dataTable) return;\n",
              "\n",
              "          const docLinkHtml = 'Like what you see? Visit the ' +\n",
              "            '<a target=\"_blank\" href=https://colab.research.google.com/notebooks/data_table.ipynb>data table notebook</a>'\n",
              "            + ' to learn more about interactive tables.';\n",
              "          element.innerHTML = '';\n",
              "          dataTable['output_type'] = 'display_data';\n",
              "          await google.colab.output.renderOutput(dataTable, element);\n",
              "          const docLink = document.createElement('div');\n",
              "          docLink.innerHTML = docLinkHtml;\n",
              "          element.appendChild(docLink);\n",
              "        }\n",
              "      </script>\n",
              "    </div>\n",
              "  </div>\n",
              "  "
            ]
          },
          "metadata": {},
          "execution_count": 75
        }
      ]
    },
    {
      "cell_type": "code",
      "source": [
        "urlparse(df['url'][65]).scheme"
      ],
      "metadata": {
        "colab": {
          "base_uri": "https://localhost:8080/",
          "height": 36
        },
        "id": "44lveBEESx__",
        "outputId": "87a2d4c1-f910-4218-96ea-05faa51d5367"
      },
      "execution_count": null,
      "outputs": [
        {
          "output_type": "execute_result",
          "data": {
            "text/plain": [
              "'http'"
            ],
            "application/vnd.google.colaboratory.intrinsic+json": {
              "type": "string"
            }
          },
          "metadata": {},
          "execution_count": 61
        }
      ]
    },
    {
      "cell_type": "code",
      "source": [
        "for url in df['url'][0:50]:\n",
        "  print(urlparse(url).scheme)"
      ],
      "metadata": {
        "id": "CKXOmXOzQPQu"
      },
      "execution_count": null,
      "outputs": []
    },
    {
      "cell_type": "code",
      "source": [
        "urlparse(df['url'][0])"
      ],
      "metadata": {
        "colab": {
          "base_uri": "https://localhost:8080/"
        },
        "id": "BLHnUJMZQPMn",
        "outputId": "b4034f09-8f81-4201-eb42-636b588dbcc0"
      },
      "execution_count": null,
      "outputs": [
        {
          "output_type": "execute_result",
          "data": {
            "text/plain": [
              "ParseResult(scheme='', netloc='', path='br-icloud.com.br', params='', query='', fragment='')"
            ]
          },
          "metadata": {},
          "execution_count": 64
        }
      ]
    },
    {
      "cell_type": "code",
      "source": [
        "phish_df = df.loc[df['type'] == 'phishing']"
      ],
      "metadata": {
        "id": "V0NMkD3HQPJn"
      },
      "execution_count": null,
      "outputs": []
    }
  ]
}